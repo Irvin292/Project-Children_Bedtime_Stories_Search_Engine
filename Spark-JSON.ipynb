{
  "nbformat": 4,
  "nbformat_minor": 0,
  "metadata": {
    "colab": {
      "provenance": []
    },
    "kernelspec": {
      "name": "python3",
      "display_name": "Python 3"
    },
    "language_info": {
      "name": "python"
    }
  },
  "cells": [
    {
      "cell_type": "code",
      "execution_count": null,
      "metadata": {
        "id": "y07vWaiuJzU7"
      },
      "outputs": [],
      "source": [
        "!pip install pandas openpyxl\n",
        "!pip install pyspark\n",
        "!pip install pyarrow\n",
        "!wget https://repo1.maven.org/maven2/com/crealytics/spark-excel_2.12/0.13.7/spark-excel_2.12-0.13.7.jar"
      ]
    },
    {
      "cell_type": "code",
      "source": [
        "submit_args = '--packages com.crealytics:spark-excel_2.12:0.13.7 pyspark-shell'"
      ],
      "metadata": {
        "id": "AEs5hk9sJ-45"
      },
      "execution_count": null,
      "outputs": []
    },
    {
      "cell_type": "code",
      "source": [
        "import os\n",
        "os.environ[\"PYSPARK_SUBMIT_ARGS\"] = submit_args"
      ],
      "metadata": {
        "id": "rSQdWYueJ9T9"
      },
      "execution_count": null,
      "outputs": []
    },
    {
      "cell_type": "code",
      "source": [
        "import pandas as pd\n",
        "\n",
        "# 读取Excel文件\n",
        "df = pd.read_excel('stories1.xlsx', engine='openpyxl')"
      ],
      "metadata": {
        "id": "yXmRwD83KLD_"
      },
      "execution_count": null,
      "outputs": []
    },
    {
      "cell_type": "code",
      "source": [
        "from pyspark.sql import SparkSession\n",
        "\n",
        "# 初始化SparkSession\n",
        "spark = SparkSession.builder.master(\"local\").appName(\"Excel to JSON\").getOrCreate()\n",
        "\n",
        "# 将Pandas DataFrame转换为Spark DataFrame\n",
        "sdf = spark.createDataFrame(df)\n",
        "\n",
        "# 转换为JSON格式\n",
        "json_data = sdf.toJSON().collect()\n",
        "\n",
        "# 打印JSON数据\n",
        "print(json_data)\n",
        "#下载文件\n",
        "import json\n",
        "\n",
        "with open('data.json', 'w') as f:\n",
        "    json.dump(json_data, f)"
      ],
      "metadata": {
        "id": "HT5IUFWEKH6t"
      },
      "execution_count": null,
      "outputs": []
    }
  ]
}